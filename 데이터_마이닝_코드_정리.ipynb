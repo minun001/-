{
  "nbformat": 4,
  "nbformat_minor": 0,
  "metadata": {
    "colab": {
      "private_outputs": true,
      "provenance": [],
      "authorship_tag": "ABX9TyOxg87gktx22StGJm1cU0NY",
      "include_colab_link": true
    },
    "kernelspec": {
      "name": "python3",
      "display_name": "Python 3"
    },
    "language_info": {
      "name": "python"
    }
  },
  "cells": [
    {
      "cell_type": "markdown",
      "metadata": {
        "id": "view-in-github",
        "colab_type": "text"
      },
      "source": [
        "<a href=\"https://colab.research.google.com/github/minun001/Data-analysis/blob/main/%EB%8D%B0%EC%9D%B4%ED%84%B0_%EB%A7%88%EC%9D%B4%EB%8B%9D_%EC%BD%94%EB%93%9C_%EC%A0%95%EB%A6%AC.ipynb\" target=\"_parent\"><img src=\"https://colab.research.google.com/assets/colab-badge.svg\" alt=\"Open In Colab\"/></a>"
      ]
    },
    {
      "cell_type": "code",
      "execution_count": null,
      "metadata": {
        "id": "g53SJbJp5XBc"
      },
      "outputs": [],
      "source": [
        "#PART 01 \n",
        "import pandas as pd #pandas 모듈  호출\n",
        "\n",
        "data_url = 'https://archive.ics.uci.edu/ml/machine-learning-databases/housing/housing.data' # 데이터 url을 변수 data_url에 넣기\n",
        "df_data = pd.read_csv(data_url, sep ='\\s+', header = None) # csv 데이터 로드\n",
        "df_data.columns = ['CRIM', 'ZN','INDUS','CHAS','NOX','RM','AGE','DIS','RAD','TAX','PTRATIO','B','LSTAT','MEDV'] #데이터의 열 이름 지정\n",
        "df_data.head() #데이터 출력(앞 부분만)"
      ]
    },
    {
      "cell_type": "code",
      "source": [
        "#PART 01 내적 연산\n",
        "from os import WEXITED\n",
        "from pandas.compat import numpy\n",
        "import pandas as pd #pandas 모듈  호출\n",
        "\n",
        "data_url = 'https://archive.ics.uci.edu/ml/machine-learning-databases/housing/housing.data' # 데이터 url을 변수 data_url에 넣기\n",
        "df_data = pd.read_csv(data_url, sep ='\\s+', header = None) # csv 데이터 로드\n",
        "df_data.columns = ['CRIM', 'ZN','INDUS','CHAS','NOX','RM','AGE','DIS','RAD','TAX','PTRATIO','B','LSTAT','MEDV'] #데이터의 열 이름 지정\n",
        "df_data.head() #데이터 출력(앞 부분만)\n",
        "\n",
        "import numpy as np  #numpy 모듈 호출\n",
        "\n",
        "df_data['weight_0'] = 1   # weight 0 값 추가\n",
        "df_data = df_data.drop('MEDV', axis=1)  # Y값 제거 \n",
        "df_matrix = df_data.values # 행렬 데이터로 변환하기\n",
        "weight_vector = np.random.random_sample((14,1)) # 가중치 w 생성\n",
        "df_matrix.dot(weight_vector) # 내적 연산 실행 결과 출력"
      ],
      "metadata": {
        "id": "atO5fJ_V7EL6"
      },
      "execution_count": null,
      "outputs": []
    },
    {
      "cell_type": "code",
      "source": [
        "# 넘파이\n",
        "import numpy as np"
      ],
      "metadata": {
        "id": "nnmpum7_8rsq"
      },
      "execution_count": null,
      "outputs": []
    },
    {
      "cell_type": "code",
      "source": [
        "# 배열의 메모리 구조\n",
        "import numpy as np\n",
        "test_array = np.array([1,4,5,8], float)\n",
        "#np.array(test_list, float) #Value error\n",
        "print(test_array)\n",
        "type(test_array)\n",
        "\n",
        "print(type(test_array[3]))\n",
        "print(test_array.dtype)\n",
        "print(test_array.shape)"
      ],
      "metadata": {
        "id": "g0RXlwO98rqa"
      },
      "execution_count": null,
      "outputs": []
    },
    {
      "cell_type": "code",
      "source": [
        "from numpy.matrixlib.defmatrix import matrix\n",
        "# 배열의 생성/ 배열의 구조\n",
        "matrix = [[1,2,5,8], [1,2,5,8],[1,2,5,8]]\n",
        "np.array(matrix, int).shape"
      ],
      "metadata": {
        "id": "cIHWbTeJ8rmK"
      },
      "execution_count": null,
      "outputs": []
    },
    {
      "cell_type": "code",
      "source": [
        "# shape = 일반 형태(행,열)\n",
        "tensor_rank3 = [[[1,2,5,8],[1,2,5,8],[1,2,5,8]],[[1,2,5,8],[1,2,5,8],[1,2,5,8]],[[1,2,5,8],[1,2,5,8],[1,2,5,8]],[[1,2,5,8],[1,2,5,8],[1,2,5,8]]]\n",
        "np.array(tensor_rank3, int).shape"
      ],
      "metadata": {
        "id": "Kmib6s3Z8rj6"
      },
      "execution_count": null,
      "outputs": []
    },
    {
      "cell_type": "code",
      "source": [
        "# ndim = 일반 rank\n",
        "tensor_rank3 = [[[1,2,5,8],[1,2,5,8],[1,2,5,8]],[[1,2,5,8],[1,2,5,8],[1,2,5,8]],[[1,2,5,8],[1,2,5,8],[1,2,5,8]],[[1,2,5,8],[1,2,5,8],[1,2,5,8]]]\n",
        "np.array(tensor_rank3, int).ndim"
      ],
      "metadata": {
        "id": "BwxOZyhw8rhb"
      },
      "execution_count": null,
      "outputs": []
    },
    {
      "cell_type": "code",
      "source": [
        "# size = numpy 안에 있는 모든 데이터의 개수\n",
        "tensor_rank3 = [[[1,2,5,8],[1,2,5,8],[1,2,5,8]],[[1,2,5,8],[1,2,5,8],[1,2,5,8]],[[1,2,5,8],[1,2,5,8],[1,2,5,8]],[[1,2,5,8],[1,2,5,8],[1,2,5,8]]]\n",
        "np.array(tensor_rank3, int).size"
      ],
      "metadata": {
        "id": "cROzZ2mZ8rey"
      },
      "execution_count": null,
      "outputs": []
    },
    {
      "cell_type": "code",
      "source": [
        "# dtype 데이터 타입 지정 가능\n",
        "np.array([[1,2,3.5],[4,5,6.5]], dtype = int) #데이터 타입 정수로 지정"
      ],
      "metadata": {
        "id": "ZmYA7lWJ8rZJ"
      },
      "execution_count": null,
      "outputs": []
    },
    {
      "cell_type": "code",
      "source": [
        "np.array([[1,2,3.5],[4,5,6.5]], dtype = float) # 데이터 타입 실수로 지정"
      ],
      "metadata": {
        "id": "huQSO6cs8rOa"
      },
      "execution_count": null,
      "outputs": []
    },
    {
      "cell_type": "code",
      "source": [
        "import sys # 각 요소가 차지하는 바이트 수 출력\n",
        "np.array([[1,2,3.5],[4,5,6.5]],dtype = np.float64).itemsize"
      ],
      "metadata": {
        "id": "KHiIIiQctgCM"
      },
      "execution_count": null,
      "outputs": []
    },
    {
      "cell_type": "code",
      "source": [
        "np.array([[1,2,3.5],[4,5,6.5]],dtype = np.float32).itemsize"
      ],
      "metadata": {
        "id": "blcTQgO8tf_8"
      },
      "execution_count": null,
      "outputs": []
    },
    {
      "cell_type": "code",
      "source": [
        "#배열 구조\n",
        "x = np.array([[1,2,5,8], [1,2,5,8]])\n",
        "x.shape"
      ],
      "metadata": {
        "id": "YhytZOXdtf9U"
      },
      "execution_count": null,
      "outputs": []
    },
    {
      "cell_type": "code",
      "source": [
        "x = np.array([[1,2,5,8], [1,2,5,8]])\n",
        "x.reshape(-1,)"
      ],
      "metadata": {
        "id": "e9DuQC3gtf6s"
      },
      "execution_count": null,
      "outputs": []
    },
    {
      "cell_type": "code",
      "source": [
        "x = np.array(range(8)).reshape(4,2)\n",
        "x"
      ],
      "metadata": {
        "id": "U0t3Ijdptf4U"
      },
      "execution_count": null,
      "outputs": []
    },
    {
      "cell_type": "code",
      "source": [
        "x.reshape(2,-1)"
      ],
      "metadata": {
        "id": "yW0tJbMStf11"
      },
      "execution_count": null,
      "outputs": []
    },
    {
      "cell_type": "code",
      "source": [
        "x.reshape(2,2,-1)"
      ],
      "metadata": {
        "id": "3l5TIkf9tfzV"
      },
      "execution_count": null,
      "outputs": []
    },
    {
      "cell_type": "code",
      "source": [
        "x = np.array(range(8)).reshape(2,2,2)\n",
        "x"
      ],
      "metadata": {
        "id": "9SkmXY1Itfw9"
      },
      "execution_count": null,
      "outputs": []
    },
    {
      "cell_type": "code",
      "source": [
        "x.flatten()"
      ],
      "metadata": {
        "id": "Q5LEfhshtfuM"
      },
      "execution_count": null,
      "outputs": []
    },
    {
      "cell_type": "code",
      "source": [
        "# 인덱싱\n",
        "x = np.array([[1,2,3], [4.5,5,6]], int)\n",
        "x"
      ],
      "metadata": {
        "id": "4eegfKUWtfq0"
      },
      "execution_count": null,
      "outputs": []
    },
    {
      "cell_type": "code",
      "source": [
        "x[0][0]"
      ],
      "metadata": {
        "id": "piLiXAsu1Pj4"
      },
      "execution_count": null,
      "outputs": []
    },
    {
      "cell_type": "code",
      "source": [
        "x[0,2]"
      ],
      "metadata": {
        "id": "iXlI3hxu1PiW"
      },
      "execution_count": null,
      "outputs": []
    },
    {
      "cell_type": "code",
      "source": [
        "x[0,1]=100\n",
        "x"
      ],
      "metadata": {
        "id": "vz2x9IGx1Pff"
      },
      "execution_count": null,
      "outputs": []
    },
    {
      "cell_type": "code",
      "source": [
        "# 슬라이싱\n",
        "x = np.array([[1,2,3,4,5],[6,7,8,9,10]],int)\n",
        "x[:, 2:]"
      ],
      "metadata": {
        "id": "rLQUEIL61PdX"
      },
      "execution_count": null,
      "outputs": []
    },
    {
      "cell_type": "code",
      "source": [
        "x[1,1:3]"
      ],
      "metadata": {
        "id": "WY6CXCPr1Pau"
      },
      "execution_count": null,
      "outputs": []
    },
    {
      "cell_type": "code",
      "source": [
        "x = np.array(range(15), int).reshape(3,-1)\n",
        "x"
      ],
      "metadata": {
        "id": "lVoma6BI1PZH"
      },
      "execution_count": null,
      "outputs": []
    },
    {
      "cell_type": "code",
      "source": [
        "# 행은 그대로, 열은 2칸씩 증가\n",
        "x[:,::2]"
      ],
      "metadata": {
        "id": "lCvoh5a_1PWm"
      },
      "execution_count": null,
      "outputs": []
    },
    {
      "cell_type": "code",
      "source": [
        "# 행은 2칸씩, 열은 3칸씩 증가\n",
        "x[::2,::3]"
      ],
      "metadata": {
        "id": "DJOMQlrf1PUf"
      },
      "execution_count": null,
      "outputs": []
    },
    {
      "cell_type": "code",
      "source": [
        "# 배열 생성 함수\n",
        "np.arange(10)"
      ],
      "metadata": {
        "id": "7EOSdD191PR_"
      },
      "execution_count": null,
      "outputs": []
    },
    {
      "cell_type": "code",
      "source": [
        "# (시작index, 마지막index, 증가값)\n",
        "np.arange(-5,5)"
      ],
      "metadata": {
        "id": "F53RZJno1PP2"
      },
      "execution_count": null,
      "outputs": []
    },
    {
      "cell_type": "code",
      "source": [
        "# (시작index, 마지막index, 증가값)\n",
        "np.arange(0,5,0.5)"
      ],
      "metadata": {
        "id": "ghCpQZPr1PLf"
      },
      "execution_count": null,
      "outputs": []
    },
    {
      "cell_type": "code",
      "source": [
        "# ones  행렬 내부 값들을 1로 채워 반환한다. 1로 구성된 numpy배열을 생성한다.\n",
        "np.ones(shape=(5,2), dtype = np.int8)"
      ],
      "metadata": {
        "id": "GRd1jFGF1PJB"
      },
      "execution_count": null,
      "outputs": []
    },
    {
      "cell_type": "code",
      "source": [
        "# zeros 0으로 구성된 numpy배열을 생성한다.\n",
        "np.zeros(shape=(2,2), dtype = np.float32)"
      ],
      "metadata": {
        "id": "C0csfAvjP1TP"
      },
      "execution_count": null,
      "outputs": []
    },
    {
      "cell_type": "code",
      "source": [
        "# empty 이 함수의 경우 값을 채우는 것이 아니라 활용 가능한 메모리 공간을 확보하여 반환한다.\n",
        "np.empty(shape=(2,4), dtype = np.float32)"
      ],
      "metadata": {
        "id": "zbTCg91OP1RE"
      },
      "execution_count": null,
      "outputs": []
    },
    {
      "cell_type": "code",
      "source": [],
      "metadata": {
        "id": "AMsIzosLP1O1"
      },
      "execution_count": null,
      "outputs": []
    },
    {
      "cell_type": "code",
      "source": [],
      "metadata": {
        "id": "NbC8YYZFP1Me"
      },
      "execution_count": null,
      "outputs": []
    },
    {
      "cell_type": "code",
      "source": [],
      "metadata": {
        "id": "KAf8PjcfP1KP"
      },
      "execution_count": null,
      "outputs": []
    },
    {
      "cell_type": "code",
      "source": [],
      "metadata": {
        "id": "bjIjy5dJP1Hs"
      },
      "execution_count": null,
      "outputs": []
    },
    {
      "cell_type": "code",
      "source": [],
      "metadata": {
        "id": "N9N1DTuDP1FE"
      },
      "execution_count": null,
      "outputs": []
    },
    {
      "cell_type": "code",
      "source": [],
      "metadata": {
        "id": "ivpqSNr4P1Cc"
      },
      "execution_count": null,
      "outputs": []
    },
    {
      "cell_type": "code",
      "source": [],
      "metadata": {
        "id": "iwaL1SEFfmhi"
      },
      "execution_count": null,
      "outputs": []
    },
    {
      "cell_type": "code",
      "source": [],
      "metadata": {
        "id": "lJ-9YE_hfmep"
      },
      "execution_count": null,
      "outputs": []
    },
    {
      "cell_type": "code",
      "source": [],
      "metadata": {
        "id": "LpfjTraCfmcu"
      },
      "execution_count": null,
      "outputs": []
    },
    {
      "cell_type": "code",
      "source": [],
      "metadata": {
        "id": "lg1t8_W7fmaI"
      },
      "execution_count": null,
      "outputs": []
    },
    {
      "cell_type": "code",
      "source": [],
      "metadata": {
        "id": "nIxfrvwQfmXb"
      },
      "execution_count": null,
      "outputs": []
    },
    {
      "cell_type": "code",
      "source": [],
      "metadata": {
        "id": "ATcIt5MpfmVK"
      },
      "execution_count": null,
      "outputs": []
    },
    {
      "cell_type": "code",
      "source": [],
      "metadata": {
        "id": "oPDqLZakfmSi"
      },
      "execution_count": null,
      "outputs": []
    },
    {
      "cell_type": "code",
      "source": [],
      "metadata": {
        "id": "qFdKtymffmNx"
      },
      "execution_count": null,
      "outputs": []
    },
    {
      "cell_type": "code",
      "source": [],
      "metadata": {
        "id": "Weokn_YAfmLJ"
      },
      "execution_count": null,
      "outputs": []
    },
    {
      "cell_type": "code",
      "source": [],
      "metadata": {
        "id": "SymYDawvfmIh"
      },
      "execution_count": null,
      "outputs": []
    },
    {
      "cell_type": "code",
      "source": [],
      "metadata": {
        "id": "6ypsKogpfl9t"
      },
      "execution_count": null,
      "outputs": []
    },
    {
      "cell_type": "code",
      "source": [],
      "metadata": {
        "id": "BIsKRDQnfl6j"
      },
      "execution_count": null,
      "outputs": []
    }
  ]
}