{
  "cells": [
    {
      "cell_type": "markdown",
      "metadata": {
        "id": "view-in-github",
        "colab_type": "text"
      },
      "source": [
        "<a href=\"https://colab.research.google.com/github/minun001/Data-analysis/blob/main/HW_1_Solution.ipynb\" target=\"_parent\"><img src=\"https://colab.research.google.com/assets/colab-badge.svg\" alt=\"Open In Colab\"/></a>"
      ]
    },
    {
      "cell_type": "markdown",
      "metadata": {
        "id": "qjPQIUpgWgFl"
      },
      "source": [
        "문제에서 사용하는 모든 함수와 도움이 될 내용은 https://numpy.org/doc/stable/에서 찾아볼 수 있습니다."
      ]
    },
    {
      "cell_type": "markdown",
      "metadata": {
        "id": "wW-QjpxrWgFt"
      },
      "source": [
        "아래 코드를 실행시키면 다음과 같이 날짜가 빠진 부분이 출력이 됩니다."
      ]
    },
    {
      "cell_type": "code",
      "execution_count": null,
      "metadata": {
        "colab": {
          "base_uri": "https://localhost:8080/"
        },
        "id": "oYb_IX-DwipN",
        "outputId": "e90cc61c-4f60-4788-d655-629ed374c717"
      },
      "outputs": [
        {
          "name": "stdout",
          "output_type": "stream",
          "text": [
            "['2022-09-01' '2022-09-03' '2022-09-05' '2022-09-07' '2022-09-09'\n",
            " '2022-09-11' '2022-09-13' '2022-09-15' '2022-09-17' '2022-09-19'\n",
            " '2022-09-21' '2022-09-23' '2022-09-25']\n"
          ]
        }
      ],
      "source": [
        "import numpy as np\n",
        "\n",
        "dates = np.arange(np.datetime64('2022-09-01'), np.datetime64('2022-09-27'), 2)\n",
        "print(dates)\n"
      ]
    },
    {
      "cell_type": "markdown",
      "metadata": {
        "id": "t68UnevFWgFu"
      },
      "source": [
        "P1. (10pt) numpy 함수만을 이용해서 빠진 날짜를 모두 출력하는 코드를 구현하세요."
      ]
    },
    {
      "cell_type": "code",
      "execution_count": null,
      "metadata": {
        "id": "Xf8m2ZCRWgFv"
      },
      "outputs": [],
      "source": [
        "filled_in = np.array([np.arange(date, (date+d)) for date, d in zip(dates, np.diff(dates))]).reshape(-1)\n",
        "\n",
        "output = np.hstack([filled_in, dates[-1]])\n",
        "output"
      ]
    },
    {
      "cell_type": "markdown",
      "metadata": {
        "id": "Zn0F-sllWgFv"
      },
      "source": [
        "P2. (10pt) for 구문을 이용해서 빠진 날자를 모두 출력하는 코드를 구현하세요."
      ]
    },
    {
      "cell_type": "code",
      "execution_count": null,
      "metadata": {
        "id": "OhqfOuDyWgFv"
      },
      "outputs": [],
      "source": [
        "out = []\n",
        "for date, d in zip(dates, np.diff(dates)):\n",
        "    out.append(np.arange(date, (date+d)))\n",
        "\n",
        "filled_in = np.array(out).reshape(-1)\n",
        "\n",
        "# add the last day\n",
        "output = np.hstack([filled_in, dates[-1]])\n",
        "output"
      ]
    },
    {
      "cell_type": "markdown",
      "metadata": {
        "id": "2-zraouoWgFv"
      },
      "source": [
        "numpy.where() 함수는 배열에서 조건에 맞는 요소의 인덱스를 반환합니다. 이를 이용해서 조건에 맞는 해당 인덱스로 원래의 배열로부터 부분 집합을 만들 수 있습니다.부분 집합을 만들기 위해서는 조건만 통과하면 튜플의 첫 번째 값에서 해당 배열 집합을 반환하고 두 번째 비어있는 조건을 무시해야 합니다. 그런 다음 반환된 인덱스를 사용하여 요소 자체의 배열을 가져올 수 있습니다.이러한 배경을 고려할 때, 다음 프로그램은 원래 주어진 배열에서 문자열 길이기 5보다 크거나 같은 문자열을 찾아서 배열 인텍스 위치와 해당 위치의 문자열로 부분집합들을 만듭니다.\n",
        "\n",
        "다음 코드를 실행하고 결과를 확인하세요."
      ]
    },
    {
      "cell_type": "code",
      "execution_count": null,
      "metadata": {
        "id": "kPfQMcnQWgFv"
      },
      "outputs": [],
      "source": [
        "import numpy as np\n",
        "\n",
        "phoenix= np.array(\"I'm a SCH student and I'm OK and I study all day\".split(\" \"))\n",
        "phoenix\n",
        "search_results, = np.where(np.char.str_len(phoenix) >=5)\n",
        "print(search_results)\n",
        "print(phoenix[search_results])\n"
      ]
    },
    {
      "cell_type": "markdown",
      "metadata": {
        "id": "ycoeANfiWgFw"
      },
      "source": [
        "P3. (10pt) 위 코드의 실행 결과로 얻은 부분 집합 요소인 문자열을 1) 첫글자만 대문자로 변경하세요 2) 모두 대문자로 변경하세요."
      ]
    },
    {
      "cell_type": "code",
      "execution_count": null,
      "metadata": {
        "id": "0j5xNBMrWgFw"
      },
      "outputs": [],
      "source": [
        "x=phoenix[search_results]\n",
        "titlecased_case = np.char.title(x)\n",
        "uppered_case = np.char.upper(x)\n",
        "print(\"Titlecased: \", titlecased_case)"
      ]
    },
    {
      "cell_type": "markdown",
      "metadata": {
        "id": "Ms6Q5LvPWgFw"
      },
      "source": [
        "P4. (10Pt) 어떻게 phoenix 배열에 있는 각 문자열을 시작과 끝에 별문자(*)로 묶을 수 있습니까? 코드로 구현하세요."
      ]
    },
    {
      "cell_type": "code",
      "execution_count": null,
      "metadata": {
        "id": "oSOPzbU_WgFw"
      },
      "outputs": [],
      "source": [
        "step1 = np.char.add([\"*\"], phoenix)\n",
        "step2 = np.char.add(step1, [\"*\"])\n",
        "print(step2)"
      ]
    }
  ],
  "metadata": {
    "colab": {
      "provenance": [],
      "include_colab_link": true
    },
    "kernelspec": {
      "display_name": "Python 3",
      "name": "python3"
    },
    "language_info": {
      "name": "python"
    }
  },
  "nbformat": 4,
  "nbformat_minor": 0
}