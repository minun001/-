{
  "nbformat": 4,
  "nbformat_minor": 0,
  "metadata": {
    "colab": {
      "private_outputs": true,
      "provenance": [],
      "authorship_tag": "ABX9TyPZVEr+TOEjyyVrX4au0tCh",
      "include_colab_link": true
    },
    "kernelspec": {
      "name": "python3",
      "display_name": "Python 3"
    },
    "language_info": {
      "name": "python"
    }
  },
  "cells": [
    {
      "cell_type": "markdown",
      "metadata": {
        "id": "view-in-github",
        "colab_type": "text"
      },
      "source": [
        "<a href=\"https://colab.research.google.com/github/minun001/Data-analysis/blob/main/%EB%8D%B0%EC%9D%B4%ED%84%B0_%EB%A7%88%EC%9D%B4%EB%8B%9D_code_%EC%A0%95%EB%A6%AC.ipynb\" target=\"_parent\"><img src=\"https://colab.research.google.com/assets/colab-badge.svg\" alt=\"Open In Colab\"/></a>"
      ]
    },
    {
      "cell_type": "code",
      "execution_count": null,
      "metadata": {
        "id": "g53SJbJp5XBc"
      },
      "outputs": [],
      "source": [
        "#PART 01 \n",
        "import pandas as pd #pandas 모듈  호출\n",
        "\n",
        "data_url = 'https://archive.ics.uci.edu/ml/machine-learning-databases/housing/housing.data' # 데이터 url을 변수 data_url에 넣기\n",
        "df_data = pd.read_csv(data_url, sep ='\\s+', header = None) # csv 데이터 로드\n",
        "df_data.columns = ['CRIM', 'ZN','INDUS','CHAS','NOX','RM','AGE','DIS','RAD','TAX','PTRATIO','B','LSTAT','MEDV'] #데이터의 열 이름 지정\n",
        "df_data.head() #데이터 출력(앞 부분만)"
      ]
    },
    {
      "cell_type": "code",
      "source": [
        "#PART 01 내적 연산\n",
        "from os import WEXITED\n",
        "from pandas.compat import numpy\n",
        "import pandas as pd #pandas 모듈  호출\n",
        "\n",
        "data_url = 'https://archive.ics.uci.edu/ml/machine-learning-databases/housing/housing.data' # 데이터 url을 변수 data_url에 넣기\n",
        "df_data = pd.read_csv(data_url, sep ='\\s+', header = None) # csv 데이터 로드\n",
        "df_data.columns = ['CRIM', 'ZN','INDUS','CHAS','NOX','RM','AGE','DIS','RAD','TAX','PTRATIO','B','LSTAT','MEDV'] #데이터의 열 이름 지정\n",
        "df_data.head() #데이터 출력(앞 부분만)\n",
        "\n",
        "import numpy as np  #numpy 모듈 호출\n",
        "\n",
        "df_data['weight_0'] = 1   # weight 0 값 추가\n",
        "df_data = df_data.drop('MEDV', axis=1)  # Y값 제거 \n",
        "df_matrix = df_data.values # 행렬 데이터로 변환하기\n",
        "weight_vector = np.random.random_sample((14,1)) # 가중치 w 생성\n",
        "df_matrix.dot(weight_vector) # 내적 연산 실행 결과 출력"
      ],
      "metadata": {
        "id": "atO5fJ_V7EL6"
      },
      "execution_count": null,
      "outputs": []
    },
    {
      "cell_type": "code",
      "source": [
        "# 넘파이\n",
        "import numpy as np"
      ],
      "metadata": {
        "id": "nnmpum7_8rsq"
      },
      "execution_count": null,
      "outputs": []
    },
    {
      "cell_type": "code",
      "source": [
        "# 배열의 메모리 구조\n",
        "import numpy as np\n",
        "test_array = np.array([1,4,5,8], float)\n",
        "#np.array(test_list, float) #Value error\n",
        "print(test_array)\n",
        "type(test_array)\n",
        "\n",
        "print(type(test_array[3]))\n",
        "print(test_array.dtype)\n",
        "print(test_array.shape)"
      ],
      "metadata": {
        "id": "g0RXlwO98rqa"
      },
      "execution_count": null,
      "outputs": []
    },
    {
      "cell_type": "code",
      "source": [
        "from numpy.matrixlib.defmatrix import matrix\n",
        "# 배열의 생성/ 배열의 구조\n",
        "matrix = [[1,2,5,8], [1,2,5,8],[1,2,5,8]]\n",
        "np.array(matrix, int).shape"
      ],
      "metadata": {
        "id": "cIHWbTeJ8rmK"
      },
      "execution_count": null,
      "outputs": []
    },
    {
      "cell_type": "code",
      "source": [
        "# shape = 일반 형태(행,열)\n",
        "tensor_rank3 = [[[1,2,5,8],[1,2,5,8],[1,2,5,8]],[[1,2,5,8],[1,2,5,8],[1,2,5,8]],[[1,2,5,8],[1,2,5,8],[1,2,5,8]],[[1,2,5,8],[1,2,5,8],[1,2,5,8]]]\n",
        "np.array(tensor_rank3, int).shape"
      ],
      "metadata": {
        "id": "Kmib6s3Z8rj6"
      },
      "execution_count": null,
      "outputs": []
    },
    {
      "cell_type": "code",
      "source": [
        "# ndim = 일반 rank\n",
        "tensor_rank3 = [[[1,2,5,8],[1,2,5,8],[1,2,5,8]],[[1,2,5,8],[1,2,5,8],[1,2,5,8]],[[1,2,5,8],[1,2,5,8],[1,2,5,8]],[[1,2,5,8],[1,2,5,8],[1,2,5,8]]]\n",
        "np.array(tensor_rank3, int).ndim"
      ],
      "metadata": {
        "id": "BwxOZyhw8rhb"
      },
      "execution_count": null,
      "outputs": []
    },
    {
      "cell_type": "code",
      "source": [
        "# size = numpy 안에 있는 모든 데이터의 개수\n",
        "tensor_rank3 = [[[1,2,5,8],[1,2,5,8],[1,2,5,8]],[[1,2,5,8],[1,2,5,8],[1,2,5,8]],[[1,2,5,8],[1,2,5,8],[1,2,5,8]],[[1,2,5,8],[1,2,5,8],[1,2,5,8]]]\n",
        "np.array(tensor_rank3, int).size"
      ],
      "metadata": {
        "id": "cROzZ2mZ8rey"
      },
      "execution_count": null,
      "outputs": []
    },
    {
      "cell_type": "code",
      "source": [
        "# dtype 데이터 타입 지정 가능\n",
        "np.array([[1,2,3.5],[4,5,6.5]], dtype = int) #데이터 타입 정수로 지정"
      ],
      "metadata": {
        "id": "ZmYA7lWJ8rZJ"
      },
      "execution_count": null,
      "outputs": []
    },
    {
      "cell_type": "code",
      "source": [
        "np.array([[1,2,3.5],[4,5,6.5]], dtype = float) # 데이터 타입 실수로 지정"
      ],
      "metadata": {
        "id": "huQSO6cs8rOa"
      },
      "execution_count": null,
      "outputs": []
    },
    {
      "cell_type": "code",
      "source": [
        "import sys # 각 요소가 차지하는 바이트 수 출력\n",
        "np.array([[1,2,3.5],[4,5,6.5]],dtype = np.float64).itemsize"
      ],
      "metadata": {
        "id": "KHiIIiQctgCM"
      },
      "execution_count": null,
      "outputs": []
    },
    {
      "cell_type": "code",
      "source": [
        "np.array([[1,2,3.5],[4,5,6.5]],dtype = np.float32).itemsize"
      ],
      "metadata": {
        "id": "blcTQgO8tf_8"
      },
      "execution_count": null,
      "outputs": []
    },
    {
      "cell_type": "code",
      "source": [
        "#배열 구조\n",
        "x = np.array([[1,2,5,8], [1,2,5,8]])\n",
        "x.shape"
      ],
      "metadata": {
        "id": "YhytZOXdtf9U"
      },
      "execution_count": null,
      "outputs": []
    },
    {
      "cell_type": "code",
      "source": [
        "x = np.array([[1,2,5,8], [1,2,5,8]])\n",
        "x.reshape(-1,)"
      ],
      "metadata": {
        "id": "e9DuQC3gtf6s"
      },
      "execution_count": null,
      "outputs": []
    },
    {
      "cell_type": "code",
      "source": [
        "x = np.array(range(8)).reshape(4,2)\n",
        "x"
      ],
      "metadata": {
        "id": "U0t3Ijdptf4U"
      },
      "execution_count": null,
      "outputs": []
    },
    {
      "cell_type": "code",
      "source": [
        "x.reshape(2,-1)"
      ],
      "metadata": {
        "id": "yW0tJbMStf11"
      },
      "execution_count": null,
      "outputs": []
    },
    {
      "cell_type": "code",
      "source": [
        "x.reshape(2,2,-1)"
      ],
      "metadata": {
        "id": "3l5TIkf9tfzV"
      },
      "execution_count": null,
      "outputs": []
    },
    {
      "cell_type": "code",
      "source": [
        "x = np.array(range(8)).reshape(2,2,2)\n",
        "x"
      ],
      "metadata": {
        "id": "9SkmXY1Itfw9"
      },
      "execution_count": null,
      "outputs": []
    },
    {
      "cell_type": "code",
      "source": [
        "x.flatten()"
      ],
      "metadata": {
        "id": "Q5LEfhshtfuM"
      },
      "execution_count": null,
      "outputs": []
    },
    {
      "cell_type": "code",
      "source": [
        "# 인덱싱\n",
        "x = np.array([[1,2,3], [4.5,5,6]], int)\n",
        "x"
      ],
      "metadata": {
        "id": "4eegfKUWtfq0"
      },
      "execution_count": null,
      "outputs": []
    },
    {
      "cell_type": "code",
      "source": [
        "x[0][0]"
      ],
      "metadata": {
        "id": "piLiXAsu1Pj4"
      },
      "execution_count": null,
      "outputs": []
    },
    {
      "cell_type": "code",
      "source": [
        "x[0,2]"
      ],
      "metadata": {
        "id": "iXlI3hxu1PiW"
      },
      "execution_count": null,
      "outputs": []
    },
    {
      "cell_type": "code",
      "source": [
        "x[0,1]=100\n",
        "x"
      ],
      "metadata": {
        "id": "vz2x9IGx1Pff"
      },
      "execution_count": null,
      "outputs": []
    },
    {
      "cell_type": "code",
      "source": [
        "# 슬라이싱\n",
        "x = np.array([[1,2,3,4,5],[6,7,8,9,10]],int)\n",
        "x[:, 2:]"
      ],
      "metadata": {
        "id": "rLQUEIL61PdX"
      },
      "execution_count": null,
      "outputs": []
    },
    {
      "cell_type": "code",
      "source": [
        "x[1,1:3]"
      ],
      "metadata": {
        "id": "WY6CXCPr1Pau"
      },
      "execution_count": null,
      "outputs": []
    },
    {
      "cell_type": "code",
      "source": [
        "x = np.array(range(15), int).reshape(3,-1)\n",
        "x"
      ],
      "metadata": {
        "id": "lVoma6BI1PZH"
      },
      "execution_count": null,
      "outputs": []
    },
    {
      "cell_type": "code",
      "source": [
        "# 행은 그대로, 열은 2칸씩 증가\n",
        "x[:,::2]"
      ],
      "metadata": {
        "id": "lCvoh5a_1PWm"
      },
      "execution_count": null,
      "outputs": []
    },
    {
      "cell_type": "code",
      "source": [
        "# 행은 2칸씩, 열은 3칸씩 증가\n",
        "x[::2,::3]"
      ],
      "metadata": {
        "id": "DJOMQlrf1PUf"
      },
      "execution_count": null,
      "outputs": []
    },
    {
      "cell_type": "code",
      "source": [
        "# 배열 생성 함수\n",
        "np.arange(10)"
      ],
      "metadata": {
        "id": "7EOSdD191PR_"
      },
      "execution_count": null,
      "outputs": []
    },
    {
      "cell_type": "code",
      "source": [
        "# (시작index, 마지막index, 증가값)\n",
        "np.arange(-5,5)"
      ],
      "metadata": {
        "id": "F53RZJno1PP2"
      },
      "execution_count": null,
      "outputs": []
    },
    {
      "cell_type": "code",
      "source": [
        "# (시작index, 마지막index, 증가값)\n",
        "np.arange(0,5,0.5)"
      ],
      "metadata": {
        "id": "ghCpQZPr1PLf"
      },
      "execution_count": null,
      "outputs": []
    },
    {
      "cell_type": "code",
      "source": [
        "# ones  행렬 내부 값들을 1로 채워 반환한다. 1로 구성된 numpy배열을 생성한다.\n",
        "np.ones(shape=(5,2), dtype = np.int8)"
      ],
      "metadata": {
        "id": "GRd1jFGF1PJB"
      },
      "execution_count": null,
      "outputs": []
    },
    {
      "cell_type": "code",
      "source": [
        "# zeros 0으로 구성된 numpy배열을 생성한다.\n",
        "np.zeros(shape=(2,2), dtype = np.float32)"
      ],
      "metadata": {
        "id": "C0csfAvjP1TP"
      },
      "execution_count": null,
      "outputs": []
    },
    {
      "cell_type": "code",
      "source": [
        "# empty 이 함수의 경우 값을 채우는 것이 아니라 활용 가능한 메모리 공간을 확보하여 반환한다.\n",
        "np.empty(shape=(2,4), dtype = np.float32)"
      ],
      "metadata": {
        "id": "zbTCg91OP1RE"
      },
      "execution_count": null,
      "outputs": []
    },
    {
      "cell_type": "code",
      "source": [
        "# ones_like, zero_like, empty_like\n",
        "x = np.arange(12).reshape(3,4)\n",
        "x"
      ],
      "metadata": {
        "id": "AMsIzosLP1O1"
      },
      "execution_count": null,
      "outputs": []
    },
    {
      "cell_type": "code",
      "source": [
        "# ones_like  기존 넘파이 배열의 크기 + 1로 채우기\n",
        "np.ones_like(x)"
      ],
      "metadata": {
        "id": "NbC8YYZFP1Me"
      },
      "execution_count": null,
      "outputs": []
    },
    {
      "cell_type": "code",
      "source": [
        "#zero_like  기존 넘파이 배열의 크기 + 0으로 채우기\n",
        "np.zeros_like(x)"
      ],
      "metadata": {
        "id": "KAf8PjcfP1KP"
      },
      "execution_count": null,
      "outputs": []
    },
    {
      "cell_type": "code",
      "source": [
        "#identity, eye, diag\n",
        "#identity  n*n 단위행렬 생성\n",
        "np.identity(n=3, dtype=int)             #3*3 단위행렬 생성"
      ],
      "metadata": {
        "id": "bjIjy5dJP1Hs"
      },
      "execution_count": null,
      "outputs": []
    },
    {
      "cell_type": "code",
      "source": [
        "#identity  n*n 단위행렬 생성\n",
        "np.identity(n=4, dtype=int)            #4*4 단위행렬 생성"
      ],
      "metadata": {
        "id": "N9N1DTuDP1FE"
      },
      "execution_count": null,
      "outputs": []
    },
    {
      "cell_type": "code",
      "source": [
        "# eye  동일하게 1을 생성하는 함수\n",
        "np.eye(N=3, M=5)  # 하지만 시작점과 행렬의 크기를 지정할 수 있다. # N= 행의 개수, M= 열의 개수, k= 열 값기준 시작 인덱스 지정"
      ],
      "metadata": {
        "id": "ivpqSNr4P1Cc"
      },
      "execution_count": null,
      "outputs": []
    },
    {
      "cell_type": "code",
      "source": [
        "#k= 열 값기준 시작 인덱스 지정\n",
        "np.eye(N=3, M=5, k=2)"
      ],
      "metadata": {
        "id": "iwaL1SEFfmhi"
      },
      "execution_count": null,
      "outputs": []
    },
    {
      "cell_type": "code",
      "source": [
        "# diag함수 행렬의 값을 추출할 때 사용하는 함수\n",
        "# 특정 값에서 대각행렬만 뽑을 때 사용\n",
        "matrix = np.arange(9).reshape(3,3)\n",
        "matrix"
      ],
      "metadata": {
        "id": "lJ-9YE_hfmep"
      },
      "execution_count": null,
      "outputs": []
    },
    {
      "cell_type": "code",
      "source": [
        "np.diag(matrix)"
      ],
      "metadata": {
        "id": "LpfjTraCfmcu"
      },
      "execution_count": null,
      "outputs": []
    },
    {
      "cell_type": "code",
      "source": [
        "#k= 열 값기준 시작 인덱스 지정\n",
        "np.diag(matrix, k=1)"
      ],
      "metadata": {
        "id": "lg1t8_W7fmaI"
      },
      "execution_count": null,
      "outputs": []
    },
    {
      "cell_type": "code",
      "source": [
        "# 통계분석 함수\n",
        "# 균등 분포\n",
        "# np.random.uniform(시작값, 끝값, 데이터 개수)\n",
        "np.random.uniform(0,5,10)"
      ],
      "metadata": {
        "id": "nIxfrvwQfmXb"
      },
      "execution_count": null,
      "outputs": []
    },
    {
      "cell_type": "code",
      "source": [
        "# 통계분석 함수\n",
        "# 정규 분포\n",
        "# np.random.normal(평균값, 분산, 데이터 개수)\n",
        "np.random.normal(0,2,10)"
      ],
      "metadata": {
        "id": "ATcIt5MpfmVK"
      },
      "execution_count": null,
      "outputs": []
    },
    {
      "cell_type": "code",
      "source": [
        "# 03 넘파이 배열 연산\n",
        "# 연산함수\n",
        "import numpy as np\n",
        "test_array = np.arange(1,11)   # 1부터 10까지 배열을 만든다\n",
        "test_array.sum()               # 1부터 10까지 배열을 합을 계산 한다."
      ],
      "metadata": {
        "id": "oPDqLZakfmSi"
      },
      "execution_count": null,
      "outputs": []
    },
    {
      "cell_type": "code",
      "source": [
        "test_array = np.arange(1,13).reshape(3,4)    # 1부터 12까지의 배열을 만든다. # 이때 reshape를 사용해서 행렬의 구조를 3행 4열로 만든다\n",
        "test_array"
      ],
      "metadata": {
        "id": "qFdKtymffmNx"
      },
      "execution_count": null,
      "outputs": []
    },
    {
      "cell_type": "code",
      "source": [
        "# 2차원에서 axis=0 행방향 연산\n",
        "test_array.sum(axis = 0)"
      ],
      "metadata": {
        "id": "Weokn_YAfmLJ"
      },
      "execution_count": null,
      "outputs": []
    },
    {
      "cell_type": "code",
      "source": [
        "# 2차원에서 axis=1 열방향 연산\n",
        "test_array.sum(axis=1)"
      ],
      "metadata": {
        "id": "SymYDawvfmIh"
      },
      "execution_count": null,
      "outputs": []
    },
    {
      "cell_type": "code",
      "source": [
        "# 3차원에서 적용\n",
        "# 3차원 배열 생성\n",
        "test_array = np.arange(1,13).reshape(3,4)\n",
        "third_order_tensor = np.array([test_array, test_array, test_array])\n",
        "third_order_tensor"
      ],
      "metadata": {
        "id": "6ypsKogpfl9t"
      },
      "execution_count": null,
      "outputs": []
    },
    {
      "cell_type": "code",
      "source": [
        "third_order_tensor.sum(axis = 0)"
      ],
      "metadata": {
        "id": "BIsKRDQnfl6j"
      },
      "execution_count": null,
      "outputs": []
    },
    {
      "cell_type": "code",
      "source": [
        "third_order_tensor.sum(axis = 1)"
      ],
      "metadata": {
        "id": "oLNu5iNePFA3"
      },
      "execution_count": null,
      "outputs": []
    },
    {
      "cell_type": "code",
      "source": [
        "third_order_tensor.sum(axis = 2)"
      ],
      "metadata": {
        "id": "ALezumqSPE-_"
      },
      "execution_count": null,
      "outputs": []
    },
    {
      "cell_type": "code",
      "source": [
        "# mean, std, sqrt\n",
        "test_array = np.arange(1,13).reshape(3,4)\n",
        "test_array"
      ],
      "metadata": {
        "id": "_NczkloyPE9H"
      },
      "execution_count": null,
      "outputs": []
    },
    {
      "cell_type": "code",
      "source": [
        "# mean\n",
        "test_array.mean(axis = 1)"
      ],
      "metadata": {
        "id": "YN_9V_45PE7J"
      },
      "execution_count": null,
      "outputs": []
    },
    {
      "cell_type": "code",
      "source": [
        "# std\n",
        "test_array.std()"
      ],
      "metadata": {
        "id": "Nw5wNa4qPE4f"
      },
      "execution_count": null,
      "outputs": []
    },
    {
      "cell_type": "code",
      "source": [
        "# std\n",
        "test_array.std(axis = 0)"
      ],
      "metadata": {
        "id": "TbobKNbyPE2X"
      },
      "execution_count": null,
      "outputs": []
    },
    {
      "cell_type": "code",
      "source": [
        "# sqrt\n",
        "np.sqrt(test_array)"
      ],
      "metadata": {
        "id": "EHegTGepPEzv"
      },
      "execution_count": null,
      "outputs": []
    },
    {
      "cell_type": "code",
      "source": [
        "# 연결 함수\n",
        "# vstack                     수평 =====> 행\n",
        "v1 = np.array([1,2,3])\n",
        "v2 = np.array([4,5,6])\n",
        "np.vstack((v1,v2))"
      ],
      "metadata": {
        "id": "sQdkPwKrWzfk"
      },
      "execution_count": null,
      "outputs": []
    },
    {
      "cell_type": "code",
      "source": [
        "# 연결 함수\n",
        "# hstack                     수직 =====> 열\n",
        "np.hstack((v1,v2))"
      ],
      "metadata": {
        "id": "mnYtnwE0WzdE"
      },
      "execution_count": null,
      "outputs": []
    },
    {
      "cell_type": "code",
      "source": [
        "v1 = v1.reshape(-1,1)\n",
        "v2 = v2.reshape(-1,1)\n",
        "v1"
      ],
      "metadata": {
        "id": "cyfU9W3iWzZr"
      },
      "execution_count": null,
      "outputs": []
    },
    {
      "cell_type": "code",
      "source": [
        "v2"
      ],
      "metadata": {
        "id": "47fvVUjlWzVs"
      },
      "execution_count": null,
      "outputs": []
    },
    {
      "cell_type": "code",
      "source": [
        "np.hstack((v1,v2))"
      ],
      "metadata": {
        "id": "CsqDaHR4WzTE"
      },
      "execution_count": null,
      "outputs": []
    },
    {
      "cell_type": "code",
      "source": [
        "# np.cincatenate함수 ==================> 축을 고려하여 두개의 배열을 결합하는 역할을 한다. stack과 차이점은 생성될 배열과 소스가 되는 배열의 차원이 같아야 한다는 점이다.\n",
        "v1 = np.array([[1,2,3]])\n",
        "v2 = np.array([[4,5,6]])\n",
        "np.concatenate((v1,v2), axis = 0)"
      ],
      "metadata": {
        "id": "iCYeoVDEWzQk"
      },
      "execution_count": null,
      "outputs": []
    },
    {
      "cell_type": "code",
      "source": [
        "v1 = np.array([1,2,3,4]).reshape(2,2)\n",
        "v2 = np.array([[5,6]]).T  #  ===============> 전치 행렬\n",
        "v1"
      ],
      "metadata": {
        "id": "OWmciwGkWzNn"
      },
      "execution_count": null,
      "outputs": []
    },
    {
      "cell_type": "code",
      "source": [
        "v2"
      ],
      "metadata": {
        "id": "I8_F7L1_WzLU"
      },
      "execution_count": null,
      "outputs": []
    },
    {
      "cell_type": "code",
      "source": [
        "# concatenate 함수 사용\n",
        "np.concatenate((v1,v2), axis = 1)"
      ],
      "metadata": {
        "id": "R0NCzR_XWzIz"
      },
      "execution_count": null,
      "outputs": []
    },
    {
      "cell_type": "code",
      "source": [
        "# 사칙연산 함수\n",
        "x = np.arange(1,7).reshape(2,3)\n",
        "x"
      ],
      "metadata": {
        "id": "Tzqia8juWzGU"
      },
      "execution_count": null,
      "outputs": []
    },
    {
      "cell_type": "code",
      "source": [
        "print(x+x)\n",
        "print(x-x)\n",
        "print(x/x)\n",
        "print(x**x)  #int32"
      ],
      "metadata": {
        "id": "SQlG_mi3WzDk"
      },
      "execution_count": null,
      "outputs": []
    },
    {
      "cell_type": "code",
      "source": [
        "# 내적 함수 dot()\n",
        "x_1 = np.arange(1,7).reshape(2,3)\n",
        "x_2 = np.arange(1,7).reshape(3,2)\n",
        "x_1"
      ],
      "metadata": {
        "id": "Z6aspFLqWzBL"
      },
      "execution_count": null,
      "outputs": []
    },
    {
      "cell_type": "code",
      "source": [
        "x_2"
      ],
      "metadata": {
        "id": "-0hlCId2Wy-v"
      },
      "execution_count": null,
      "outputs": []
    },
    {
      "cell_type": "code",
      "source": [
        "# 내적 함수 dot()\n",
        "x_1.dot(x_2)"
      ],
      "metadata": {
        "id": "9U8hG7lbWy8E"
      },
      "execution_count": null,
      "outputs": []
    },
    {
      "cell_type": "code",
      "source": [
        "# 브로드캐스팅 연산\n",
        "# 행렬 & 스칼라 연산\n",
        "x = np.arange(1,10).reshape(3,3)\n",
        "x"
      ],
      "metadata": {
        "id": "ANajVUJDWy5U"
      },
      "execution_count": null,
      "outputs": []
    },
    {
      "cell_type": "code",
      "source": [
        "x+10"
      ],
      "metadata": {
        "id": "8dcPczqw-954"
      },
      "execution_count": null,
      "outputs": []
    },
    {
      "cell_type": "code",
      "source": [
        "x-2"
      ],
      "metadata": {
        "id": "LcNSXELV-93g"
      },
      "execution_count": null,
      "outputs": []
    },
    {
      "cell_type": "code",
      "source": [
        "x//3"
      ],
      "metadata": {
        "id": "7wPP9S3W-91O"
      },
      "execution_count": null,
      "outputs": []
    },
    {
      "cell_type": "code",
      "source": [
        "x**2"
      ],
      "metadata": {
        "id": "QX8VQHfu-9zN"
      },
      "execution_count": null,
      "outputs": []
    },
    {
      "cell_type": "code",
      "source": [
        "# 브로드캐스팅 연산\n",
        "# 행렬 & 벡터 연산\n",
        "x = np.arange(1,13).reshape(4,3)\n",
        "x"
      ],
      "metadata": {
        "id": "OFsGBcSi-9w1"
      },
      "execution_count": null,
      "outputs": []
    },
    {
      "cell_type": "code",
      "source": [
        "v = np.arange(10,40,10)\n",
        "v"
      ],
      "metadata": {
        "id": "pVT_ewNC-9uT"
      },
      "execution_count": null,
      "outputs": []
    },
    {
      "cell_type": "code",
      "source": [
        "# 행렬 & 벡터 연산\n",
        "x+v"
      ],
      "metadata": {
        "id": "Qm5yXZ_p-9rd"
      },
      "execution_count": null,
      "outputs": []
    },
    {
      "cell_type": "code",
      "source": [
        "# 04 비교연산\n",
        "# 1.1 브로드캐스팅 비교연산\n",
        "import numpy as np\n",
        "x = np.array([4,3,2,6,8,5])\n",
        "x > 3"
      ],
      "metadata": {
        "id": "8e3KxIId-9pV"
      },
      "execution_count": null,
      "outputs": []
    },
    {
      "cell_type": "code",
      "source": [
        "# 04 비교연산\n",
        "# 1.2 요소별 비교 연산\n",
        "x = np.array([1,3,0])\n",
        "y = np.array([2,1,7])\n",
        "x > y"
      ],
      "metadata": {
        "id": "JNA3ew2d-9m3"
      },
      "execution_count": null,
      "outputs": []
    },
    {
      "cell_type": "code",
      "source": [
        "# 04 비교연산\n",
        "# 2.1 all 과 any\n",
        "x = np.array([4,6,7,3,2])\n",
        "(x>3)"
      ],
      "metadata": {
        "id": "A6Jac1L4bIrN"
      },
      "execution_count": null,
      "outputs": []
    },
    {
      "cell_type": "code",
      "source": [
        "(x>3).all()"
      ],
      "metadata": {
        "id": "zZ-gx8gMbIou"
      },
      "execution_count": null,
      "outputs": []
    },
    {
      "cell_type": "code",
      "source": [
        "(x>3).any()"
      ],
      "metadata": {
        "id": "JgJi9e3ibImM"
      },
      "execution_count": null,
      "outputs": []
    },
    {
      "cell_type": "code",
      "source": [
        "(x<10).any()"
      ],
      "metadata": {
        "id": "vkII_AinbIjs"
      },
      "execution_count": null,
      "outputs": []
    },
    {
      "cell_type": "code",
      "source": [
        "(x<10).all()"
      ],
      "metadata": {
        "id": "wltHjmOdbIhV"
      },
      "execution_count": null,
      "outputs": []
    },
    {
      "cell_type": "code",
      "source": [
        "# 04 비교연산\n",
        "# 2.2 인덱스 반환 함수\n",
        "x = np.array([4,6,7,3,2])\n",
        "x>5"
      ],
      "metadata": {
        "id": "fcX0ugSMbIfR"
      },
      "execution_count": null,
      "outputs": []
    },
    {
      "cell_type": "code",
      "source": [
        "# 2.2 인덱스 반환 함수\n",
        "np.where(x>5) # 행으로 구성되어 있기 때문에 행 인덱스만 출력, dtype=int64"
      ],
      "metadata": {
        "id": "axFLy2xZbIcy"
      },
      "execution_count": null,
      "outputs": []
    },
    {
      "cell_type": "code",
      "source": [
        "np.where(x>5, 10, 20) #참인 값을 10으로 거짓인 값은 20으로 표현해라"
      ],
      "metadata": {
        "id": "nwuIISCrbIaT"
      },
      "execution_count": null,
      "outputs": []
    },
    {
      "cell_type": "code",
      "source": [
        "# 2.3 정렬된 값의 인덱스를 반환해 주는 함수\n",
        "x = np.array([4,6,7,3,2])\n",
        "np.argsort(x)"
      ],
      "metadata": {
        "id": "CwEHqwnTbIXc"
      },
      "execution_count": null,
      "outputs": []
    },
    {
      "cell_type": "code",
      "source": [
        "np.argmax(x)"
      ],
      "metadata": {
        "id": "P2wvFG4pbIVF"
      },
      "execution_count": null,
      "outputs": []
    },
    {
      "cell_type": "code",
      "source": [
        "np.argmin(x)"
      ],
      "metadata": {
        "id": "qDNaZRDzbISS"
      },
      "execution_count": null,
      "outputs": []
    },
    {
      "cell_type": "code",
      "source": [
        "# 3 인덱스를 활용한 데이터 추출\n",
        "# 3.1 불린 인덱스\n",
        "x = np.array([4,6,7,3,2])\n",
        "x>3"
      ],
      "metadata": {
        "id": "umSpDq30bIPl"
      },
      "execution_count": null,
      "outputs": []
    },
    {
      "cell_type": "code",
      "source": [
        "cond = x>3\n",
        "x[cond]"
      ],
      "metadata": {
        "id": "_IX9qj-gbINa"
      },
      "execution_count": null,
      "outputs": []
    },
    {
      "cell_type": "code",
      "source": [
        "x.shape"
      ],
      "metadata": {
        "id": "5bEukMAFbILC"
      },
      "execution_count": null,
      "outputs": []
    },
    {
      "cell_type": "code",
      "source": [
        "cond.shape"
      ],
      "metadata": {
        "id": "-YoEAWMlbIJK"
      },
      "execution_count": null,
      "outputs": []
    },
    {
      "cell_type": "code",
      "source": [
        "# Ch.04 판다스\n",
        "# 시리즈 객체\n",
        "import pandas as pd\n",
        "import numpy as np\n",
        "\n",
        "from pandas import Series, DataFrame\n",
        "\n",
        "list_data = [1,2,3,4,5]\n",
        "list_name = [\"a\",\"b\",\"c\",\"d\",\"e\"]\n",
        "example_obj = Series(data = list_data, index = list_name)\n",
        "example_obj"
      ],
      "metadata": {
        "id": "JvOcXb2WbIHC"
      },
      "execution_count": null,
      "outputs": []
    },
    {
      "cell_type": "code",
      "source": [
        "example_obj.index"
      ],
      "metadata": {
        "id": "zutaI7aVbIEy"
      },
      "execution_count": null,
      "outputs": []
    },
    {
      "cell_type": "code",
      "source": [
        "example_obj.values #datatype = int64"
      ],
      "metadata": {
        "id": "UcJ5N10obIC2"
      },
      "execution_count": null,
      "outputs": []
    },
    {
      "cell_type": "code",
      "source": [
        "type(example_obj.values)"
      ],
      "metadata": {
        "id": "Ttnt7VkAbIAL"
      },
      "execution_count": null,
      "outputs": []
    },
    {
      "cell_type": "code",
      "source": [
        "example_obj.dtype"
      ],
      "metadata": {
        "id": "9FEYBiW6bH-i"
      },
      "execution_count": null,
      "outputs": []
    },
    {
      "cell_type": "code",
      "source": [
        "example_obj.name = \"number\"\n",
        "example_obj.index.name = \"id\"\n",
        "example_obj"
      ],
      "metadata": {
        "id": "0yl62ntabH7i"
      },
      "execution_count": null,
      "outputs": []
    },
    {
      "cell_type": "code",
      "source": [
        "# 딕셔너리 타입은 키, 인덱스, 값은 데이터 항목에 들어간다.\n",
        "dict_data = {\"a\":1, \"b\":2, \"c\":3, \"d\":4, \"e\":5}\n",
        "example_obj =Series(dict_data, dtype = np.float32, name =\"example_data\")\n",
        "example_obj"
      ],
      "metadata": {
        "id": "klz_WFe9bH4y"
      },
      "execution_count": null,
      "outputs": []
    },
    {
      "cell_type": "code",
      "source": [
        "# NaN은 Not a Number\n",
        "# NaN은 일반적으로 Null값을 의미함. 파이썬에서는 None을 의미함.\n",
        "dict_data_1 = {\"a\":1, \"b\":2, \"c\":3, \"d\":4, \"e\":5}\n",
        "indexes = [\"a\",\"b\",\"c\",\"d\",\"e\",\"f\",\"g\",\"h\"]\n",
        "series_obj_1 = Series(dict_data_1, index = indexes)\n",
        "series_obj_1"
      ],
      "metadata": {
        "id": "_Ww0opHwrPh7"
      },
      "execution_count": null,
      "outputs": []
    },
    {
      "cell_type": "code",
      "source": [
        "# Ch.04 판다스\n",
        "# 데이터프레임 객체\n",
        "#데이터프레임 생성\n"
      ],
      "metadata": {
        "id": "0GkA6-5-rPdh"
      },
      "execution_count": null,
      "outputs": []
    },
    {
      "cell_type": "code",
      "source": [],
      "metadata": {
        "id": "xmo-_AY5rPaw"
      },
      "execution_count": null,
      "outputs": []
    },
    {
      "cell_type": "code",
      "source": [],
      "metadata": {
        "id": "M4Qg3QXUrPYk"
      },
      "execution_count": null,
      "outputs": []
    },
    {
      "cell_type": "code",
      "source": [],
      "metadata": {
        "id": "dctlkSuTrPWN"
      },
      "execution_count": null,
      "outputs": []
    },
    {
      "cell_type": "code",
      "source": [],
      "metadata": {
        "id": "4FnJVHG3rPTq"
      },
      "execution_count": null,
      "outputs": []
    },
    {
      "cell_type": "code",
      "source": [],
      "metadata": {
        "id": "NxyIgxRmrPRY"
      },
      "execution_count": null,
      "outputs": []
    },
    {
      "cell_type": "code",
      "source": [],
      "metadata": {
        "id": "UrjqnfWorPPK"
      },
      "execution_count": null,
      "outputs": []
    },
    {
      "cell_type": "code",
      "source": [],
      "metadata": {
        "id": "H13jdVhdrPND"
      },
      "execution_count": null,
      "outputs": []
    },
    {
      "cell_type": "code",
      "source": [],
      "metadata": {
        "id": "hXKveOByrPKg"
      },
      "execution_count": null,
      "outputs": []
    },
    {
      "cell_type": "code",
      "source": [],
      "metadata": {
        "id": "bnFi4D0krPII"
      },
      "execution_count": null,
      "outputs": []
    },
    {
      "cell_type": "code",
      "source": [],
      "metadata": {
        "id": "OhpN-jQ4rPFp"
      },
      "execution_count": null,
      "outputs": []
    },
    {
      "cell_type": "code",
      "source": [],
      "metadata": {
        "id": "8L62tw-WrPDB"
      },
      "execution_count": null,
      "outputs": []
    },
    {
      "cell_type": "code",
      "source": [],
      "metadata": {
        "id": "kikSq3KfrPAj"
      },
      "execution_count": null,
      "outputs": []
    }
  ]
}